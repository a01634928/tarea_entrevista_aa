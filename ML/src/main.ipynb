{
 "cells": [
  {
   "cell_type": "code",
   "execution_count": 1,
   "metadata": {},
   "outputs": [],
   "source": [
    "import pandas as pd\n",
    "import numpy as np\n",
    "import seaborn as sns"
   ]
  },
  {
   "cell_type": "code",
   "execution_count": null,
   "metadata": {},
   "outputs": [],
   "source": []
  },
  {
   "cell_type": "code",
   "execution_count": 2,
   "metadata": {},
   "outputs": [
    {
     "data": {
      "text/html": [
       "<div>\n",
       "<style scoped>\n",
       "    .dataframe tbody tr th:only-of-type {\n",
       "        vertical-align: middle;\n",
       "    }\n",
       "\n",
       "    .dataframe tbody tr th {\n",
       "        vertical-align: top;\n",
       "    }\n",
       "\n",
       "    .dataframe thead th {\n",
       "        text-align: right;\n",
       "    }\n",
       "</style>\n",
       "<table border=\"1\" class=\"dataframe\">\n",
       "  <thead>\n",
       "    <tr style=\"text-align: right;\">\n",
       "      <th></th>\n",
       "      <th>date</th>\n",
       "      <th>sentiment</th>\n",
       "      <th>clasificacion</th>\n",
       "      <th>id</th>\n",
       "    </tr>\n",
       "  </thead>\n",
       "  <tbody>\n",
       "    <tr>\n",
       "      <th>0</th>\n",
       "      <td>2021-08-01</td>\n",
       "      <td>NEUTRAL</td>\n",
       "      <td>Otro</td>\n",
       "      <td>0</td>\n",
       "    </tr>\n",
       "    <tr>\n",
       "      <th>1</th>\n",
       "      <td>2021-08-01</td>\n",
       "      <td>NEUTRAL</td>\n",
       "      <td>Otro</td>\n",
       "      <td>1</td>\n",
       "    </tr>\n",
       "    <tr>\n",
       "      <th>2</th>\n",
       "      <td>2021-08-01</td>\n",
       "      <td>NEUTRAL</td>\n",
       "      <td>Otro</td>\n",
       "      <td>2</td>\n",
       "    </tr>\n",
       "    <tr>\n",
       "      <th>3</th>\n",
       "      <td>2021-08-01</td>\n",
       "      <td>NEUTRAL</td>\n",
       "      <td>Otro</td>\n",
       "      <td>3</td>\n",
       "    </tr>\n",
       "    <tr>\n",
       "      <th>4</th>\n",
       "      <td>2021-08-01</td>\n",
       "      <td>NEUTRAL</td>\n",
       "      <td>APP</td>\n",
       "      <td>4</td>\n",
       "    </tr>\n",
       "    <tr>\n",
       "      <th>...</th>\n",
       "      <td>...</td>\n",
       "      <td>...</td>\n",
       "      <td>...</td>\n",
       "      <td>...</td>\n",
       "    </tr>\n",
       "    <tr>\n",
       "      <th>464970</th>\n",
       "      <td>2022-08-10</td>\n",
       "      <td>NEUTRAL</td>\n",
       "      <td>Otro</td>\n",
       "      <td>464970</td>\n",
       "    </tr>\n",
       "    <tr>\n",
       "      <th>464971</th>\n",
       "      <td>2022-08-10</td>\n",
       "      <td>POSITIVE</td>\n",
       "      <td>Otro</td>\n",
       "      <td>464971</td>\n",
       "    </tr>\n",
       "    <tr>\n",
       "      <th>464972</th>\n",
       "      <td>2022-08-10</td>\n",
       "      <td>NEUTRAL</td>\n",
       "      <td>Otro</td>\n",
       "      <td>464972</td>\n",
       "    </tr>\n",
       "    <tr>\n",
       "      <th>464973</th>\n",
       "      <td>2022-08-10</td>\n",
       "      <td>NEUTRAL</td>\n",
       "      <td>Otro</td>\n",
       "      <td>464973</td>\n",
       "    </tr>\n",
       "    <tr>\n",
       "      <th>464974</th>\n",
       "      <td>2022-08-10</td>\n",
       "      <td>NEUTRAL</td>\n",
       "      <td>Servicio</td>\n",
       "      <td>464974</td>\n",
       "    </tr>\n",
       "  </tbody>\n",
       "</table>\n",
       "<p>464975 rows × 4 columns</p>\n",
       "</div>"
      ],
      "text/plain": [
       "              date sentiment clasificacion      id\n",
       "0       2021-08-01   NEUTRAL          Otro       0\n",
       "1       2021-08-01   NEUTRAL          Otro       1\n",
       "2       2021-08-01   NEUTRAL          Otro       2\n",
       "3       2021-08-01   NEUTRAL          Otro       3\n",
       "4       2021-08-01   NEUTRAL           APP       4\n",
       "...            ...       ...           ...     ...\n",
       "464970  2022-08-10   NEUTRAL          Otro  464970\n",
       "464971  2022-08-10  POSITIVE          Otro  464971\n",
       "464972  2022-08-10   NEUTRAL          Otro  464972\n",
       "464973  2022-08-10   NEUTRAL          Otro  464973\n",
       "464974  2022-08-10   NEUTRAL      Servicio  464974\n",
       "\n",
       "[464975 rows x 4 columns]"
      ]
     },
     "execution_count": 2,
     "metadata": {},
     "output_type": "execute_result"
    }
   ],
   "source": [
    "df = pd.read_csv(\"../input/input_1.csv\")\n",
    "df"
   ]
  },
  {
   "cell_type": "code",
   "execution_count": null,
   "metadata": {},
   "outputs": [],
   "source": []
  }
 ],
 "metadata": {
  "kernelspec": {
   "display_name": "Python 3.8.13 ('env_aa')",
   "language": "python",
   "name": "python3"
  },
  "language_info": {
   "codemirror_mode": {
    "name": "ipython",
    "version": 3
   },
   "file_extension": ".py",
   "mimetype": "text/x-python",
   "name": "python",
   "nbconvert_exporter": "python",
   "pygments_lexer": "ipython3",
   "version": "3.8.13"
  },
  "orig_nbformat": 4,
  "vscode": {
   "interpreter": {
    "hash": "dd1e06544298db203766f224e5af23f3918391d1c03dc93e87f9455aa1bd8b84"
   }
  }
 },
 "nbformat": 4,
 "nbformat_minor": 2
}
